{
 "cells": [
  {
   "cell_type": "code",
   "execution_count": 1,
   "metadata": {},
   "outputs": [],
   "source": [
    "import matplotlib.pyplot as plt\n",
    "import numpy as np"
   ]
  },
  {
   "cell_type": "markdown",
   "metadata": {},
   "source": [
    "Проверка алгоритма умножения на корректность"
   ]
  },
  {
   "cell_type": "code",
   "execution_count": 2,
   "metadata": {},
   "outputs": [],
   "source": [
    "with open('array1.txt', 'r') as f:\n",
    "    array1 = f.readlines()\n",
    "array1 = np.array([list(map(int, row.split())) for row in array1])\n",
    "\n",
    "with open('array2.txt', 'r') as f:\n",
    "    array2 = f.readlines()\n",
    "array2 = np.array([list(map(int, row.split())) for row in array2])\n",
    "\n",
    "with open('result.txt', 'r') as f:\n",
    "    result = f.readlines()\n",
    "result = np.array([list(map(int, row.split())) for row in result])"
   ]
  },
  {
   "cell_type": "code",
   "execution_count": 3,
   "metadata": {},
   "outputs": [
    {
     "data": {
      "text/plain": [
       "True"
      ]
     },
     "execution_count": 3,
     "metadata": {},
     "output_type": "execute_result"
    }
   ],
   "source": [
    "np.allclose(array1 @ array2, result)"
   ]
  },
  {
   "cell_type": "markdown",
   "metadata": {},
   "source": [
    "Построение зависимости времени от размера"
   ]
  },
  {
   "cell_type": "code",
   "execution_count": 4,
   "metadata": {},
   "outputs": [],
   "source": [
    "with open('times.txt', 'r') as f:\n",
    "    data = f.readlines()"
   ]
  },
  {
   "cell_type": "code",
   "execution_count": 5,
   "metadata": {},
   "outputs": [],
   "source": [
    "data = np.array([list(map(int, row.split())) for row in data])"
   ]
  },
  {
   "cell_type": "code",
   "execution_count": 6,
   "metadata": {},
   "outputs": [
    {
     "data": {
      "text/plain": [
       "array([[      7,       8,       8,       7,       7,       8,       8,\n",
       "             12,      12,       7,       6,      11,       7,       5,\n",
       "             10,       7,       7,       7,       8,       6],\n",
       "       [     27,      27,      29,      28,      36,      32,      19,\n",
       "             17,      17,      17,      17,      18,      17,      27,\n",
       "             26,      27,      27,      27,      27,      27],\n",
       "       [    237,     214,     155,     125,     262,     216,     216,\n",
       "            189,     293,     127,     125,     126,     125,     126,\n",
       "            125,     215,     199,     127,     125,     125],\n",
       "       [    736,     731,     875,     786,     861,     899,     783,\n",
       "            778,     803,     785,     787,     788,     783,     784,\n",
       "            789,     783,     900,     782,     774,     785],\n",
       "       [   5504,    5684,    5534,    5765,    5509,    5498,    5479,\n",
       "           5482,    5834,    5494,    5610,    5469,    5505,    5522,\n",
       "           5464,    5808,    5549,    5791,    5587,    5494],\n",
       "       [  78779,   76671,   78395,   76116,   77089,   76075,   75866,\n",
       "          74819,   75831,   74979,   76884,   75427,   75479,   75906,\n",
       "          75119,   76034,   75857,   75852,   75705,   76367],\n",
       "       [ 616821,  630805,  646255,  610001,  607969,  604296,  642233,\n",
       "         606300,  627008,  612341,  638976,  622640,  664733,  611203,\n",
       "         622416,  611920,  596228,  595379,  601302,  592206],\n",
       "       [2093856, 2091324, 2093834, 2097405, 2095015, 2093134, 2089121,\n",
       "        2099845, 2096561, 2096155, 2086326, 2087890, 2096721, 2090805,\n",
       "        2091950, 2088190, 2099283, 2091937, 2096960, 2091225],\n",
       "       [4950722, 4947251, 4950110, 4952497, 4950266, 4968251, 4975077,\n",
       "        4968740, 4949907, 4939456, 4927781, 4948018, 4943126, 4943252,\n",
       "        4939556, 4985457, 4938926, 4944069, 4947495, 4943236]])"
      ]
     },
     "execution_count": 6,
     "metadata": {},
     "output_type": "execute_result"
    }
   ],
   "source": [
    "data"
   ]
  },
  {
   "cell_type": "code",
   "execution_count": 7,
   "metadata": {},
   "outputs": [
    {
     "data": {
      "text/plain": [
       "<matplotlib.legend.Legend at 0x26e88282120>"
      ]
     },
     "execution_count": 7,
     "metadata": {},
     "output_type": "execute_result"
    },
    {
     "data": {
      "image/png": "[encoded data removed]",
      "text/plain": [
       "<Figure size 640x480 with 1 Axes>"
      ]
     },
     "metadata": {},
     "output_type": "display_data"
    }
   ],
   "source": [
    "sizes = np.array([5, 10, 25, 50, 100, 250, 500, 750, 1000])\n",
    "\n",
    "fig, ax = plt.subplots()\n",
    "ax.plot(sizes, np.mean(data, axis = 1), label = 'Среднее')\n",
    "ax.plot(sizes, np.median(data, axis = 1), label = 'Медиана')\n",
    "ax.set_xlabel('Размер')\n",
    "ax.set_ylabel('Время')\n",
    "ax.set_title('Зависимость времени от размера')\n",
    "ax.legend()"
   ]
  },
  {
   "cell_type": "code",
   "execution_count": null,
   "metadata": {},
   "outputs": [],
   "source": []
  }
 ],
 "metadata": {
  "kernelspec": {
   "display_name": "Python 3",
   "language": "python",
   "name": "python3"
  },
  "language_info": {
   "codemirror_mode": {
    "name": "ipython",
    "version": 3
   },
   "file_extension": ".py",
   "mimetype": "text/x-python",
   "name": "python",
   "nbconvert_exporter": "python",
   "pygments_lexer": "ipython3",
   "version": "3.13.2"
  }
 },
 "nbformat": 4,
 "nbformat_minor": 2
}
